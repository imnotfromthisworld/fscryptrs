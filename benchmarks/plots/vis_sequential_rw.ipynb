{
 "cells": [
  {
   "cell_type": "code",
   "execution_count": null,
   "id": "7a44e579-3d51-4ae5-9f91-785a07cfb07f",
   "metadata": {},
   "outputs": [],
   "source": [
    "%matplotlib ipympl\n",
    "import pandas as pd\n",
    "import numpy as np\n",
    "import matplotlib.pyplot as plt\n",
    "import seaborn as sns\n",
    "\n",
    "\n",
    "def plot(filesystem_names, read_speeds, write_speeds, ylim, filename, title):\n",
    "    sns.set_theme(font=\"Fira Sans\", style=\"whitegrid\", palette=\"pastel\")\n",
    "\n",
    "    num_filesystems = len(filesystem_names)\n",
    "    read_speeds = np.round(read_speeds, -1)\n",
    "    write_speeds = np.round(write_speeds, -1)\n",
    "    bar_width = 0.35\n",
    "    index = np.arange(num_filesystems)\n",
    "\n",
    "    fig, ax = plt.subplots(figsize=(12, 5))\n",
    "    ax.set_ylim(0, ylim)\n",
    "    bar1 = ax.bar(index - bar_width/2, read_speeds, bar_width, label='Read Speed (MB/s)', color=sns.color_palette(\"pastel\")[0])\n",
    "    bar2 = ax.bar(index + bar_width/2, write_speeds, bar_width, label='Write Speed (MB/s)', color=sns.color_palette(\"pastel\")[1])\n",
    "   # ax.set_xlabel('Filesystem', fontsize=14, labelpad=15)\n",
    "    ax.set_ylabel('Speed (MB/s)', fontsize=14, labelpad=15)\n",
    "    ax.set_title(title, fontsize=16, pad=20)\n",
    "    ax.set_xticks(index)\n",
    "    ax.set_xticklabels(filesystem_names, rotation=0, ha='center', fontsize=14)\n",
    "    ax.legend(fontsize=12)\n",
    "\n",
    "    def autolabel(bars):\n",
    "        for bar in bars:\n",
    "            height = bar.get_height()\n",
    "            xy = (bar.get_x() + bar.get_width() / 2, height)\n",
    "            if height > ylim:\n",
    "                xy = (bar.get_x() + bar.get_width() / 2, 0)\n",
    "\n",
    "            ax.annotate(f'{height:.0f}', xy=xy,\n",
    "                xytext=(0, 5),\n",
    "                textcoords=\"offset points\",\n",
    "                ha='center', va='bottom', fontsize=15)\n",
    "\n",
    "    autolabel(bar1)\n",
    "    autolabel(bar2)\n",
    "    plt.tight_layout()\n",
    "    #plt.savefig(filename) \n",
    "    plt.show()\n"
   ]
  },
  {
   "cell_type": "code",
   "execution_count": null,
   "id": "0221a7f7-ae4d-4c73-8963-1f82541ac176",
   "metadata": {
    "scrolled": true
   },
   "outputs": [],
   "source": [
    "# 100x write 1G block 1 time\n",
    "\n",
    "filesystem_names = [\"fscryptrs\\nBlake2\", \"fscryptrs\\nNone\", \"gocryptfs\", \"default\"]\n",
    "\n",
    "# Average read speeds (MB/s) for each filesystem\n",
    "read_speeds = [420.85, 794.59, 2006.01, 7762.94]\n",
    "# Average write speeds (MB/s) for each filesystem\n",
    "write_speeds = [230.04, 483.59, 888.86, 3470.33]\n",
    "\n",
    "plot(filesystem_names, read_speeds, write_speeds, 2500, \"seq_io_1G_1.svg\", \"Sequential I/O Benchmark (writing 1 block of size 1GB)\")"
   ]
  },
  {
   "cell_type": "code",
   "execution_count": null,
   "id": "e9ff518d-b607-4e00-aaae-2499e7aef89e",
   "metadata": {},
   "outputs": [],
   "source": [
    "# 100x write 1M block 1024 times\n",
    "\n",
    "filesystem_names = [\"fscryptrs\\nBlake2\", \"fscryptrs\\nNone\", \"gocryptfs\", \"default\"]\n",
    "# Average read speeds (MB/s) for each filesystem\n",
    "read_speeds = [416.93, 798.07, 2145.28, 12318.72]\n",
    "# Average write speeds (MB/s) for each filesystem\n",
    "write_speeds = [231.25, 510.65, 845.54, 4905.98]\n",
    "\n",
    "plot(filesystem_names, read_speeds, write_speeds, 2500, \"seq_io_1M_1024.svg\", \"Sequential I/O Benchmark (writing 1024 blocks of size 1MB)\")\n"
   ]
  }
 ],
 "metadata": {
  "kernelspec": {
   "display_name": "Python 3 (ipykernel)",
   "language": "python",
   "name": "python3"
  },
  "language_info": {
   "codemirror_mode": {
    "name": "ipython",
    "version": 3
   },
   "file_extension": ".py",
   "mimetype": "text/x-python",
   "name": "python",
   "nbconvert_exporter": "python",
   "pygments_lexer": "ipython3",
   "version": "3.13.3"
  }
 },
 "nbformat": 4,
 "nbformat_minor": 5
}
